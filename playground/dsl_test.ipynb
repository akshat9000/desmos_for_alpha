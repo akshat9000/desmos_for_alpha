{
 "cells": [
  {
   "cell_type": "code",
   "execution_count": 1,
   "id": "38115a62",
   "metadata": {},
   "outputs": [],
   "source": [
    "import numpy as np\n",
    "import pandas as pd\n",
    "from datetime import datetime, date"
   ]
  },
  {
   "cell_type": "code",
   "execution_count": 2,
   "id": "928b3c73",
   "metadata": {},
   "outputs": [],
   "source": [
    "import matplotlib.pyplot as plt"
   ]
  },
  {
   "cell_type": "code",
   "execution_count": 3,
   "id": "7eef3939",
   "metadata": {},
   "outputs": [],
   "source": [
    "import os\n",
    "import sys"
   ]
  },
  {
   "cell_type": "code",
   "execution_count": 4,
   "id": "9f20564c",
   "metadata": {},
   "outputs": [],
   "source": [
    "from pathlib import Path"
   ]
  },
  {
   "cell_type": "code",
   "execution_count": 5,
   "id": "61babc28",
   "metadata": {},
   "outputs": [],
   "source": [
    "add_path = Path(os.getcwd()).parent"
   ]
  },
  {
   "cell_type": "code",
   "execution_count": 6,
   "id": "07488e08",
   "metadata": {},
   "outputs": [
    {
     "data": {
      "text/plain": [
       "'d:\\\\research\\\\desmos_for_alpha\\\\desmos_for_alpha'"
      ]
     },
     "execution_count": 6,
     "metadata": {},
     "output_type": "execute_result"
    }
   ],
   "source": [
    "str(add_path)"
   ]
  },
  {
   "cell_type": "code",
   "execution_count": 7,
   "id": "f43ffb6a",
   "metadata": {},
   "outputs": [],
   "source": [
    "sys.path.append(str(add_path))  "
   ]
  },
  {
   "cell_type": "code",
   "execution_count": 8,
   "id": "38130a14",
   "metadata": {},
   "outputs": [],
   "source": [
    "from engine.backtest_loop import evaluate_series\n",
    "from dsl.parser import parse_alpha\n",
    "from dsl.eval import EvaluationContext, eval_node\n",
    "import dsl.functions  # ensure registry is loaded"
   ]
  },
  {
   "cell_type": "code",
   "execution_count": 9,
   "id": "189e3ae0",
   "metadata": {},
   "outputs": [],
   "source": [
    "def load_fields_from_csv(data_dir=\"data\"):\n",
    "    required = [\"returns\", \"close\", \"volume\"]\n",
    "    paths = {name: os.path.join(data_dir, f\"{name}.csv\") for name in required}\n",
    "    if all(os.path.exists(p) for p in paths.values()):\n",
    "        fields = {\n",
    "            name: pd.read_csv(paths[name], index_col=0, parse_dates=True) for name in required\n",
    "        }\n",
    "        return fields, True\n",
    "    return None, False"
   ]
  },
  {
   "cell_type": "code",
   "execution_count": 10,
   "id": "b20e20a0",
   "metadata": {},
   "outputs": [],
   "source": [
    "def gen_synthetic_fields(n_days=250, symbols=(\"AAPL\",\"MSFT\",\"GOOG\",\"AMZN\",\"TSLA\",\"NVDA\"), seed=42):\n",
    "    rng = np.random.default_rng(seed)\n",
    "    dates = pd.date_range(\"2024-01-01\", periods=n_days, freq=\"B\")\n",
    "    n = len(symbols)\n",
    "\n",
    "    close = pd.DataFrame(100 + np.cumsum(rng.normal(0, 1, (n_days, n)), axis=0),\n",
    "                         index=dates, columns=symbols)\n",
    "    volume = pd.DataFrame(rng.integers(1e5, 5e6, (n_days, n)),\n",
    "                          index=dates, columns=symbols)\n",
    "    returns = close.pct_change().fillna(0.0)\n",
    "\n",
    "    return {\"close\": close, \"volume\": volume, \"returns\": returns}"
   ]
  },
  {
   "cell_type": "code",
   "execution_count": 11,
   "id": "fbe5875b",
   "metadata": {},
   "outputs": [],
   "source": [
    "def save_fields_to_csv(fields, data_dir=\"data\"):\n",
    "    os.makedirs(data_dir, exist_ok=True)\n",
    "    for name, df in fields.items():\n",
    "        df.to_csv(os.path.join(data_dir, f\"{name}.csv\"))"
   ]
  },
  {
   "cell_type": "code",
   "execution_count": 12,
   "id": "051ead26",
   "metadata": {},
   "outputs": [],
   "source": [
    "def pandas_parity_checks(fields, t):\n",
    "    \"\"\"Return a dict of boolean results comparing DSL vs pandas for a couple of ops.\"\"\"\n",
    "    results = {}\n",
    "\n",
    "    # ts_mean parity\n",
    "    alpha = \"ts_mean(returns, 5)\"\n",
    "    dsl = eval_node(EvaluationContext(fields, t), parse_alpha(alpha)).sort_index()\n",
    "    pd_res = fields[\"returns\"].rolling(5).mean().loc[t].sort_index()\n",
    "    results[\"ts_mean==rolling_mean_5\"] = bool((dsl.round(10) == pd_res.round(10)).all())\n",
    "\n",
    "    # ts_std parity\n",
    "    alpha = \"ts_std(returns, 5)\"\n",
    "    dsl = eval_node(EvaluationContext(fields, t), parse_alpha(alpha)).sort_index()\n",
    "    pd_res = fields[\"returns\"].rolling(5).std(ddof=1).loc[t].sort_index()\n",
    "    results[\"ts_std==rolling_std_5\"] = bool((dsl.round(10) == pd_res.round(10)).all())\n",
    "\n",
    "    # delay parity\n",
    "    alpha = \"delay(returns, 3)\"\n",
    "    dsl = eval_node(EvaluationContext(fields, t), parse_alpha(alpha)).sort_index()\n",
    "    row = fields[\"returns\"].index.get_loc(t)\n",
    "    pd_res = fields[\"returns\"].iloc[row-3].sort_index()\n",
    "    results[\"delay_3_equals_shift\"] = bool((dsl.round(10) == pd_res.round(10)).all())\n",
    "\n",
    "    return results"
   ]
  },
  {
   "cell_type": "code",
   "execution_count": 13,
   "id": "65a3ebd1",
   "metadata": {},
   "outputs": [],
   "source": [
    "fields, found = load_fields_from_csv(r\"D:\\research\\desmos_for_alpha\\desmos_for_alpha\\data\")"
   ]
  },
  {
   "cell_type": "code",
   "execution_count": 44,
   "id": "ff0cbee7",
   "metadata": {},
   "outputs": [],
   "source": [
    "alpha = \"ts_mean(close, 10)\"\n",
    "# alpha = \"close\""
   ]
  },
  {
   "cell_type": "code",
   "execution_count": 45,
   "id": "74b9eea5",
   "metadata": {},
   "outputs": [],
   "source": [
    "sig = evaluate_series(alpha, fields)"
   ]
  },
  {
   "cell_type": "code",
   "execution_count": 46,
   "id": "5a1cc892",
   "metadata": {},
   "outputs": [
    {
     "name": "stdout",
     "output_type": "stream",
     "text": [
      "\n",
      "Pandas parity checks @ last date 2025-10-03 :\n",
      "  ts_mean==rolling_mean_5        -> True\n",
      "  ts_std==rolling_std_5          -> True\n",
      "  delay_3_equals_shift           -> True\n"
     ]
    }
   ],
   "source": [
    "t = next(iter(fields.values())).index[-1]\n",
    "checks = pandas_parity_checks(fields, t)\n",
    "\n",
    "print(\"\\nPandas parity checks @ last date\", t.date(), \":\")\n",
    "for k, v in checks.items():\n",
    "    print(f\"  {k:30s} -> {v}\")"
   ]
  },
  {
   "cell_type": "code",
   "execution_count": 47,
   "id": "16b0dd91",
   "metadata": {},
   "outputs": [
    {
     "data": {
      "image/png": "[encoded data removed]",
      "text/plain": [
       "<Figure size 640x480 with 1 Axes>"
      ]
     },
     "metadata": {},
     "output_type": "display_data"
    }
   ],
   "source": [
    "col = sig.columns[0]\n",
    "window = sig.iloc[-150:][col]\n",
    "ax = window.plot(title=f\"{col} — alpha signal (last {len(window)} points)\")\n",
    "ax.set_xlabel(\"Date\"); ax.set_ylabel(\"Signal\")\n",
    "plt.tight_layout(); plt.show()"
   ]
  },
  {
   "cell_type": "code",
   "execution_count": null,
   "id": "fdee2bb5",
   "metadata": {},
   "outputs": [],
   "source": []
  }
 ],
 "metadata": {
  "kernelspec": {
   "display_name": "venv",
   "language": "python",
   "name": "python3"
  },
  "language_info": {
   "codemirror_mode": {
    "name": "ipython",
    "version": 3
   },
   "file_extension": ".py",
   "mimetype": "text/x-python",
   "name": "python",
   "nbconvert_exporter": "python",
   "pygments_lexer": "ipython3",
   "version": "3.13.3"
  }
 },
 "nbformat": 4,
 "nbformat_minor": 5
}
